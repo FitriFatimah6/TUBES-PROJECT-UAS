{
  "nbformat": 4,
  "nbformat_minor": 0,
  "metadata": {
    "colab": {
      "provenance": [],
      "include_colab_link": true
    },
    "kernelspec": {
      "name": "python3",
      "display_name": "Python 3"
    },
    "language_info": {
      "name": "python"
    }
  },
  "cells": [
    {
      "cell_type": "markdown",
      "metadata": {
        "id": "view-in-github",
        "colab_type": "text"
      },
      "source": [
        "<a href=\"https://colab.research.google.com/github/FitriFatimah6/TUBES-PROJECT-UAS/blob/main/Kel1_Analisis_Pandas_Fish_Datasets(rs).ipynb\" target=\"_parent\"><img src=\"https://colab.research.google.com/assets/colab-badge.svg\" alt=\"Open In Colab\"/></a>"
      ]
    },
    {
      "cell_type": "markdown",
      "source": [
        "# Import Library"
      ],
      "metadata": {
        "id": "6Nbyu-lZnC2r"
      }
    },
    {
      "cell_type": "code",
      "source": [
        "import pandas as pd\n",
        "\n",
        "# Load data\n",
        "df = pd.read_csv(\"/content/joined_fish_data.csv\")\n",
        "\n",
        "# Format tanggal\n",
        "df[\"catch_date\"] = pd.to_datetime(df[\"catch_date\"], errors='coerce')\n",
        "df[\"capture_month\"] = df[\"catch_date\"].dt.to_period(\"M\").astype(str)\n",
        "\n"
      ],
      "metadata": {
        "id": "q4jvbV6KhY5E"
      },
      "execution_count": 1,
      "outputs": []
    },
    {
      "cell_type": "markdown",
      "source": [
        "# 1. Statistik Deskriptif Freshness dan Kondisi Perairan"
      ],
      "metadata": {
        "id": "CrYdpnbvnIq1"
      }
    },
    {
      "cell_type": "code",
      "source": [
        "# 1. Statistik Deskriptif Freshness dan Kondisi Perairan\n",
        "descriptive_stats = df[[\n",
        "    \"freshness_score\", \"temperature_celsius\",\n",
        "    \"salinity_ppt\"\n",
        "]].describe()\n",
        "print(\"1. Deskriptif Freshness & Kondisi Perairan:\\n\", descriptive_stats, \"\\n\")\n"
      ],
      "metadata": {
        "colab": {
          "base_uri": "https://localhost:8080/"
        },
        "id": "8Gr-0kmBhvhm",
        "outputId": "2256b364-125a-4b7c-f54b-04a648db8c90"
      },
      "execution_count": 2,
      "outputs": [
        {
          "output_type": "stream",
          "name": "stdout",
          "text": [
            "1. Deskriptif Freshness & Kondisi Perairan:\n",
            "        freshness_score  temperature_celsius  salinity_ppt\n",
            "count     10006.000000         10006.000000  10006.000000\n",
            "mean          5.527983            27.395373     32.663192\n",
            "std           3.000477             2.162634      1.365125\n",
            "min           1.000000            24.000000     30.400000\n",
            "25%           3.000000            25.300000     31.000000\n",
            "50%           6.000000            27.200000     33.400000\n",
            "75%           8.000000            29.300000     33.800000\n",
            "max         100.000000            31.700000     34.400000 \n",
            "\n"
          ]
        }
      ]
    },
    {
      "cell_type": "markdown",
      "source": [
        "# 2. Korelasi Angka Freshness dengan Faktor Numerik"
      ],
      "metadata": {
        "id": "UBKPv4hCnMGl"
      }
    },
    {
      "cell_type": "code",
      "source": [
        "# 2. Korelasi Angka Freshness dengan Faktor Numerik\n",
        "correlation_table = df[[\n",
        "    \"freshness_score\", \"temperature_celsius\",\n",
        "    \"salinity_ppt\", \"weight_kg\", \"length_cm\"\n",
        "]].corr().round(2)\n",
        "print(\"2. Korelasi antar Variabel:\\n\", correlation_table, \"\\n\")\n"
      ],
      "metadata": {
        "colab": {
          "base_uri": "https://localhost:8080/"
        },
        "id": "csg9bdo7h0ay",
        "outputId": "86b4296c-381c-4386-a3c6-b8f7df237556"
      },
      "execution_count": 3,
      "outputs": [
        {
          "output_type": "stream",
          "name": "stdout",
          "text": [
            "2. Korelasi antar Variabel:\n",
            "                      freshness_score  temperature_celsius  salinity_ppt  \\\n",
            "freshness_score                 1.00                -0.01          0.01   \n",
            "temperature_celsius            -0.01                 1.00         -0.33   \n",
            "salinity_ppt                    0.01                -0.33          1.00   \n",
            "weight_kg                      -0.01                 0.00         -0.00   \n",
            "length_cm                      -0.00                 0.01          0.01   \n",
            "\n",
            "                     weight_kg  length_cm  \n",
            "freshness_score          -0.01      -0.00  \n",
            "temperature_celsius       0.00       0.01  \n",
            "salinity_ppt             -0.00       0.01  \n",
            "weight_kg                 1.00      -0.01  \n",
            "length_cm                -0.01       1.00   \n",
            "\n"
          ]
        }
      ]
    },
    {
      "cell_type": "markdown",
      "source": [
        "# 3. Rata-rata Freshness per Fishing Method"
      ],
      "metadata": {
        "id": "2r2UBO-znPbD"
      }
    },
    {
      "cell_type": "code",
      "source": [
        "# 3. Rata-rata Freshness per Fishing Method\n",
        "method_freshness_table = df.groupby(\"fishing_method\")[\"freshness_score\"].agg(\n",
        "    count=\"count\", avg_score=\"mean\", std_dev=\"std\"\n",
        ").round(2).sort_values(by=\"avg_score\", ascending=False)\n",
        "print(\"3. Rata-rata Freshness per Fishing Method:\\n\", method_freshness_table, \"\\n\")\n"
      ],
      "metadata": {
        "colab": {
          "base_uri": "https://localhost:8080/"
        },
        "id": "CFMj7Ss6h5th",
        "outputId": "d5406b07-9dc4-4bf9-bfb3-6cdc26e1938f"
      },
      "execution_count": 4,
      "outputs": [
        {
          "output_type": "stream",
          "name": "stdout",
          "text": [
            "3. Rata-rata Freshness per Fishing Method:\n",
            "                 count  avg_score  std_dev\n",
            "fishing_method                           \n",
            "Gill Net         1665       5.67     3.64\n",
            "Trawling         1691       5.56     2.88\n",
            "Long Line        1552       5.52     2.85\n",
            "Trap             1654       5.50     2.81\n",
            "Purse Seine      1758       5.47     2.84\n",
            "Hand Line        1686       5.46     2.90 \n",
            "\n"
          ]
        }
      ]
    },
    {
      "cell_type": "markdown",
      "source": [
        "# 4. Rata-rata Freshness per Fish Name"
      ],
      "metadata": {
        "id": "Fl8Gx9SmnSXE"
      }
    },
    {
      "cell_type": "code",
      "source": [
        "# 4. Rata-rata Freshness per Fish Name\n",
        "fish_freshness_table = df.groupby(\"fish_name\")[\"freshness_score\"].agg(\n",
        "    count=\"count\", avg_score=\"mean\", std_dev=\"std\"\n",
        ").round(2).sort_values(by=\"avg_score\", ascending=False)\n",
        "print(\"4. Rata-rata Freshness per Fish Name:\\n\", fish_freshness_table, \"\\n\")\n"
      ],
      "metadata": {
        "colab": {
          "base_uri": "https://localhost:8080/"
        },
        "id": "rDmJ5ENQh-CO",
        "outputId": "ad44d7c8-989b-42b1-bc30-69f8408d59b0"
      },
      "execution_count": 5,
      "outputs": [
        {
          "output_type": "stream",
          "name": "stdout",
          "text": [
            "4. Rata-rata Freshness per Fish Name:\n",
            "             count  avg_score  std_dev\n",
            "fish_name                            \n",
            "Swordfish     411       5.84     2.86\n",
            "Snapper       420       5.75     2.91\n",
            "Salmon        447       5.71     5.31\n",
            "Cod           427       5.70     2.83\n",
            "Sea Bass      412       5.68     2.87\n",
            "Tuna          401       5.66     2.86\n",
            "Sole          396       5.63     2.78\n",
            "Flounder      435       5.62     2.94\n",
            "Grouper       424       5.59     2.87\n",
            "Anchovy       405       5.55     2.83\n",
            "Yellowtail    419       5.53     2.73\n",
            "Sardine       436       5.53     2.89\n",
            "Catfish       410       5.52     2.94\n",
            "Amberjack     403       5.50     2.89\n",
            "King Fish     421       5.49     2.77\n",
            "Herring       423       5.47     2.77\n",
            "Barramundi    432       5.46     2.77\n",
            "Mackerel      381       5.41     2.79\n",
            "Mahi-mahi     410       5.38     2.84\n",
            "Halibut       423       5.37     2.82\n",
            "Tilapia       409       5.35     2.82\n",
            "Pomfret       419       5.35     2.87\n",
            "Trout         445       5.34     2.83\n",
            "Carp          397       5.22     2.98 \n",
            "\n"
          ]
        }
      ]
    },
    {
      "cell_type": "markdown",
      "source": [
        "# 5. Rata-rata Freshness per Kategori Ikan"
      ],
      "metadata": {
        "id": "NtSEQ8BEnVD0"
      }
    },
    {
      "cell_type": "code",
      "source": [
        "# 5. Rata-rata Freshness per Kategori Ikan\n",
        "category_freshness_table = df.groupby(\"category_name\")[\"freshness_score\"].agg(\n",
        "    count=\"count\", avg_score=\"mean\", std_dev=\"std\"\n",
        ").round(2).sort_values(by=\"avg_score\", ascending=False)\n",
        "print(\"5. Rata-rata Freshness per Kategori:\\n\", category_freshness_table, \"\\n\")\n"
      ],
      "metadata": {
        "colab": {
          "base_uri": "https://localhost:8080/"
        },
        "id": "qbWgVGIFiEcO",
        "outputId": "679edf11-b9ea-41cb-d8f7-cd693ad4d413"
      },
      "execution_count": 6,
      "outputs": [
        {
          "output_type": "stream",
          "name": "stdout",
          "text": [
            "5. Rata-rata Freshness per Kategori:\n",
            "                  count  avg_score  std_dev\n",
            "category_name                             \n",
            "Pelagic Fish      2037       5.59     3.53\n",
            "Reef Fish         1981       5.57     2.80\n",
            "Freshwater Fish   1965       5.53     2.88\n",
            "Demersal Fish     2014       5.52     2.88\n",
            "Anadromous Fish   2009       5.44     2.84 \n",
            "\n"
          ]
        }
      ]
    },
    {
      "cell_type": "markdown",
      "source": [
        "# 6. Rata-rata Freshness per Lokasi"
      ],
      "metadata": {
        "id": "VlrjRsaonXzX"
      }
    },
    {
      "cell_type": "code",
      "source": [
        "# 6. Rata-rata Freshness per Lokasi\n",
        "location_freshness_table = df.groupby(\"location_name\")[\"freshness_score\"].agg(\n",
        "    count=\"count\", avg_score=\"mean\", std_dev=\"std\"\n",
        ").round(2).sort_values(by=\"avg_score\", ascending=False)\n",
        "print(\"6. Rata-rata Freshness per Lokasi:\\n\", location_freshness_table, \"\\n\")\n"
      ],
      "metadata": {
        "colab": {
          "base_uri": "https://localhost:8080/"
        },
        "id": "c0bO6baeiQCn",
        "outputId": "c816f78b-22d1-47b7-b026-c23baec56fb5"
      },
      "execution_count": 7,
      "outputs": [
        {
          "output_type": "stream",
          "name": "stdout",
          "text": [
            "6. Rata-rata Freshness per Lokasi:\n",
            "                       count  avg_score  std_dev\n",
            "location_name                                  \n",
            "Laut Flores Zone D      553       5.78     4.89\n",
            "Laut Banda Zone I       508       5.71     2.88\n",
            "Laut Jawa Zone H        507       5.71     2.91\n",
            "Laut Bali Zone F        459       5.70     2.87\n",
            "Teluk Jakarta Zone G    533       5.66     2.84\n",
            "Laut Arafura Zone F     470       5.62     2.80\n",
            "Laut Banda Zone C       499       5.59     2.87\n",
            "Laut Jawa Zone D        503       5.59     2.86\n",
            "Laut Bali Zone I        489       5.59     2.87\n",
            "Laut Bali Zone G        482       5.58     2.83\n",
            "Laut Banda Zone A       538       5.49     2.82\n",
            "Laut Natuna Zone C      480       5.48     2.78\n",
            "Laut Bali Zone E        484       5.47     2.78\n",
            "Laut Timor Zone B       490       5.47     2.86\n",
            "Laut Sulawesi Zone E    500       5.42     2.84\n",
            "Laut Flores Zone B      523       5.40     2.82\n",
            "Laut Flores Zone A      499       5.34     2.86\n",
            "Laut Natuna Zone J      481       5.33     2.97\n",
            "Teluk Jakarta Zone H    472       5.31     2.81\n",
            "Laut Flores Zone J      536       5.30     2.88 \n",
            "\n"
          ]
        }
      ]
    },
    {
      "cell_type": "markdown",
      "source": [
        "# 7. Rata-rata Freshness per Bulan Penangkapan"
      ],
      "metadata": {
        "id": "0EH3IIn5nb2T"
      }
    },
    {
      "cell_type": "code",
      "source": [
        "# 7. Rata-rata Freshness per Bulan Penangkapan\n",
        "monthly_freshness_table = df.groupby(\"capture_month\")[\"freshness_score\"].agg(\n",
        "    count=\"count\", avg_score=\"mean\", std_dev=\"std\"\n",
        ").round(2).sort_index()\n",
        "print(\"7. Tren Bulanan Freshness:\\n\", monthly_freshness_table, \"\\n\")\n"
      ],
      "metadata": {
        "colab": {
          "base_uri": "https://localhost:8080/"
        },
        "id": "hvL7LdIKiT_e",
        "outputId": "d66fa576-782a-4d2d-9f01-e45e4632c2c8"
      },
      "execution_count": 8,
      "outputs": [
        {
          "output_type": "stream",
          "name": "stdout",
          "text": [
            "7. Tren Bulanan Freshness:\n",
            "                count  avg_score  std_dev\n",
            "capture_month                           \n",
            "2023-01          840       5.45     2.88\n",
            "2023-02          780       5.71     4.35\n",
            "2023-03          794       5.48     2.90\n",
            "2023-04          855       5.76     2.81\n",
            "2023-05          829       5.59     2.86\n",
            "2023-06          806       5.52     2.94\n",
            "2023-07          833       5.58     2.83\n",
            "2023-08          800       5.39     2.86\n",
            "2023-09          841       5.54     2.86\n",
            "2023-10          835       5.48     2.89\n",
            "2023-11          871       5.43     2.79\n",
            "2023-12          891       5.42     2.80\n",
            "2024-01           31       5.68     2.68 \n",
            "\n"
          ]
        }
      ]
    },
    {
      "cell_type": "markdown",
      "source": [
        "# 8. Ringkasan Karakteristik Ikan Segar (> Threshold)"
      ],
      "metadata": {
        "id": "sUhqSW1One5F"
      }
    },
    {
      "cell_type": "code",
      "source": [
        "# 8. Ringkasan Karakteristik Ikan Segar (> Threshold)\n",
        "# Misal threshold fresh > 7\n",
        "threshold = 7\n",
        "fresh_fish_summary = df[df[\"freshness_score\"] > threshold][[\n",
        "    \"fish_name\", \"weight_kg\", \"length_cm\", \"temperature_celsius\", \"salinity_ppt\"\n",
        "]].groupby(\"fish_name\").mean().round(2).sort_values(by=\"weight_kg\", ascending=False)\n",
        "print(\"8. Ringkasan Ikan Segar (> 7):\\n\", fresh_fish_summary, \"\\n\")"
      ],
      "metadata": {
        "colab": {
          "base_uri": "https://localhost:8080/"
        },
        "id": "RXkTMZZ8iX8h",
        "outputId": "2585fe32-7ee3-4f8b-b76c-867ca7d7fba8"
      },
      "execution_count": 9,
      "outputs": [
        {
          "output_type": "stream",
          "name": "stdout",
          "text": [
            "8. Ringkasan Ikan Segar (> 7):\n",
            "             weight_kg  length_cm  temperature_celsius  salinity_ppt\n",
            "fish_name                                                          \n",
            "Tuna            28.34     113.10                27.02         32.93\n",
            "Amberjack       27.63     115.07                27.48         32.92\n",
            "Tilapia         26.75     113.77                27.32         32.65\n",
            "Sea Bass        26.36     103.80                27.12         32.85\n",
            "Salmon          26.31     104.77                27.23         32.77\n",
            "King Fish       26.28     104.76                27.52         32.74\n",
            "Halibut         26.04     101.45                27.29         32.88\n",
            "Mackerel        25.86     110.50                26.82         32.86\n",
            "Snapper         25.81     111.41                27.55         32.53\n",
            "Barramundi      25.77      99.71                27.56         32.73\n",
            "Cod             25.51     110.29                27.34         32.71\n",
            "Mahi-mahi       25.12     113.30                27.06         32.84\n",
            "Trout           25.10     108.28                27.30         32.59\n",
            "Pomfret         25.09     103.14                27.15         32.78\n",
            "Grouper         24.98     116.81                27.57         32.63\n",
            "Swordfish       24.76     100.87                27.52         32.64\n",
            "Carp            24.66     110.25                27.35         32.56\n",
            "Sardine         24.61     103.26                27.41         32.64\n",
            "Sole            24.58     112.68                27.48         32.56\n",
            "Herring         24.51     107.62                27.44         32.79\n",
            "Anchovy         24.39     110.01                27.43         32.56\n",
            "Flounder        23.93     109.00                27.44         32.76\n",
            "Yellowtail      23.87     114.41                27.40         32.54\n",
            "Catfish         23.51     113.79                27.46         32.66 \n",
            "\n"
          ]
        }
      ]
    }
  ]
}